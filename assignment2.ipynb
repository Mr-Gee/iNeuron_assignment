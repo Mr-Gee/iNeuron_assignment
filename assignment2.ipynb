{
 "cells": [
  {
   "cell_type": "markdown",
   "metadata": {},
   "source": [
    "question 1\n",
    "What are the two values of the Boolean data type? How do you write them?\n",
    "\n",
    "Answer\n",
    "the two values are True(1) or False(0). they are case sensitive and they are written as True or False"
   ]
  },
  {
   "cell_type": "markdown",
   "metadata": {},
   "source": [
    "Question 2\n",
    "What are the three different types of Boolean operators?\n",
    "\n",
    "Answer\n",
    "OR, AND, NOT"
   ]
  },
  {
   "cell_type": "markdown",
   "metadata": {},
   "source": [
    "Question 3\n",
    "Make a list of each Boolean operator\\'s truth tables (i.e. every possible combination of Boolean\n",
    "values for the operator and what it evaluate ).\n",
    "\n",
    "Answers\n",
    "OR                      AND\n",
    "0|0 = 0(False)          0|0 = 0(False)\n",
    "0|1 = 1(True)           0|1 = 0(False)\n",
    "1|0 = 1(True)           1|0 = 0(False)\n",
    "1|0 = 1(True)           1|0 = 1(True)"
   ]
  },
  {
   "cell_type": "markdown",
   "metadata": {},
   "source": [
    "Question 4\n",
    "What are the values of the following expressions?\n",
    "\n",
    "Answers\n",
    "(5 > 4) and (3 == 5)                    = False\n",
    "not (5 > 4)                             = False\n",
    "(5 > 4) or (3 == 5)                     = True\n",
    "not ((5 > 4) or (3 == 5))               = False\n",
    "(True and True) and (True == False)     = False\n",
    "(not False) or (not True)               = True"
   ]
  },
  {
   "cell_type": "markdown",
   "metadata": {},
   "source": [
    "Question 5\n",
    "What are the six comparison operators?\n",
    "\n",
    "Answer\n",
    "equal to         ==\n",
    "greater than     >\n",
    "less than        <\n",
    "not equal to     !=\n",
    "greater than or equal to    >=\n",
    "less than or equal to       <="
   ]
  },
  {
   "cell_type": "markdown",
   "metadata": {},
   "source": [
    "Question 6\n",
    "How do you tell the difference between the equal to and assignment operators?Describe a\n",
    "condition and when you would use one.\n",
    "\n",
    "Answer\n",
    "assignment operator - this is used to assign a value to a variable. E.g a = b + 1\n",
    "equal sign is representened by == and it's used for comparism"
   ]
  },
  {
   "cell_type": "markdown",
   "metadata": {},
   "source": [
    "Question 7\n",
    "Identify the three blocks in this code:\n",
    "spam = 0\n",
    "if spam == 10:\n",
    "    print('eggs')\n",
    "if spam > 5:\n",
    "    print('bacon')\n",
    "else:\n",
    "    print('ham')\n",
    "    print('spam')\n",
    "    print('spam')\n",
    "    \n",
    "Answer\n",
    "Block 1\n",
    "spam = 0\n",
    "if spam == 10:\n",
    "    print('eggs')\n",
    "    \n",
    "Block 2\n",
    "if spam > 5:\n",
    "    print('bacon')\n",
    "\n",
    "Block 3\n",
    "else:\n",
    "    print('ham')\n",
    "    print('spam')\n",
    "    print('spam')"
   ]
  },
  {
   "cell_type": "markdown",
   "metadata": {},
   "source": [
    "Question 8\n",
    "Write code that prints Hello if 1 is stored in spam, prints Howdy if 2 is stored in spam, and prints\n",
    "Greetings! if anything else is stored in spam.\n"
   ]
  },
  {
   "cell_type": "code",
   "execution_count": 6,
   "metadata": {},
   "outputs": [
    {
     "name": "stdout",
     "output_type": "stream",
     "text": [
      "Howdy!\n"
     ]
    }
   ],
   "source": [
    "#Answer\n",
    "spam = 2\n",
    "if spam == 1:\n",
    "    print(\"Hello!\")\n",
    "elif spam == 2:\n",
    "    print(\"Howdy!\")\n",
    "else:\n",
    "    print(\"Greetings\")"
   ]
  },
  {
   "cell_type": "markdown",
   "metadata": {},
   "source": [
    "Question 9\n",
    "If your programme is stuck in an endless loop, what keys you’ll press?\n",
    "\n",
    "Answer\n",
    "CTR + C"
   ]
  },
  {
   "cell_type": "markdown",
   "metadata": {},
   "source": [
    "Question 10\n",
    "How can you tell the difference between break and continue?\n",
    "\n",
    "Answer\n",
    "The break statement terminates the whole iteration of a loop whereas continue skips the current iteration"
   ]
  },
  {
   "cell_type": "markdown",
   "metadata": {},
   "source": [
    "Question 11\n",
    "In a for loop, what is the difference between range(10), range(0, 10), and range(0, 10, 1)?\n",
    "\n",
    "Answer\n",
    "range(10) is similar to range(0, 10) and range(0,10,1)\n",
    "range(10) - loops from initial point of zero(0) to to nine(9) with a default jumper/stepper one(1)\n",
    "range(0,10) - loops from initial point of zero(0) to nine(9) with a default jumper/stepper one(1) and defined starting point zero(0)\n",
    "range(0,10,1) - loops from initial point of zero(0) to to nine(9) with a defined jumper/stepper one(1) and defined starting point zero(0)"
   ]
  },
  {
   "cell_type": "markdown",
   "metadata": {},
   "source": [
    "Question 12\n",
    "Write a short program that prints the numbers 1 to 10 using a for loop. Then write an equivalent\n",
    "program that prints the numbers 1 to 10 using a while loop."
   ]
  },
  {
   "cell_type": "code",
   "execution_count": 7,
   "metadata": {},
   "outputs": [
    {
     "name": "stdout",
     "output_type": "stream",
     "text": [
      "number:  1\n",
      "number:  2\n",
      "number:  3\n",
      "number:  4\n",
      "number:  5\n",
      "number:  6\n",
      "number:  7\n",
      "number:  8\n",
      "number:  9\n",
      "number:  10\n"
     ]
    }
   ],
   "source": [
    "for i in range(1, 11):\n",
    "    print(\"number: \", i) "
   ]
  },
  {
   "cell_type": "code",
   "execution_count": 8,
   "metadata": {},
   "outputs": [
    {
     "name": "stdout",
     "output_type": "stream",
     "text": [
      "number:  1\n",
      "number:  2\n",
      "number:  3\n",
      "number:  4\n",
      "number:  5\n",
      "number:  6\n",
      "number:  7\n",
      "number:  8\n",
      "number:  9\n",
      "number:  10\n"
     ]
    }
   ],
   "source": [
    "a = 1\n",
    "while a < 11:\n",
    "    print(\"number: \", a)\n",
    "    a = a + 1"
   ]
  },
  {
   "cell_type": "markdown",
   "metadata": {},
   "source": [
    "Question 13\n",
    "If you had a function named bacon() inside a module named spam, how would you call it after\n",
    "importing spam?\n",
    "\n",
    "Answer\n",
    "This will be called like a method i.e. spam.bacon()"
   ]
  },
  {
   "cell_type": "code",
   "execution_count": null,
   "metadata": {},
   "outputs": [],
   "source": []
  }
 ],
 "metadata": {
  "kernelspec": {
   "display_name": "Python 3 (ipykernel)",
   "language": "python",
   "name": "python3"
  },
  "language_info": {
   "codemirror_mode": {
    "name": "ipython",
    "version": 3
   },
   "file_extension": ".py",
   "mimetype": "text/x-python",
   "name": "python",
   "nbconvert_exporter": "python",
   "pygments_lexer": "ipython3",
   "version": "3.10.6"
  },
  "vscode": {
   "interpreter": {
    "hash": "848e482367a1079213f1a6a376c2ae18657a7517240baa289010b4dafc4b3a2f"
   }
  }
 },
 "nbformat": 4,
 "nbformat_minor": 4
}
